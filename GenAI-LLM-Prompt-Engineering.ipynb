{
  "nbformat": 4,
  "nbformat_minor": 0,
  "metadata": {
    "colab": {
      "provenance": [],
      "collapsed_sections": [
        "JaA1qRxzgpAt",
        "Xi0Cly3qg8An",
        "3MX2uuzzh5t9",
        "gNOgwr9qh9pu",
        "tXxyOaLGjhFD",
        "B_z48BCcjsP6"
      ]
    },
    "kernelspec": {
      "name": "python3",
      "display_name": "Python 3"
    },
    "language_info": {
      "name": "python"
    }
  },
  "cells": [
    {
      "cell_type": "markdown",
      "source": [
        "## Setup 1"
      ],
      "metadata": {
        "id": "sdVMwi4cgBM4"
      }
    },
    {
      "cell_type": "code",
      "source": [
        "!pip install --upgrade --quiet openai"
      ],
      "metadata": {
        "colab": {
          "base_uri": "https://localhost:8080/"
        },
        "id": "sj7D81lbf86z",
        "outputId": "8a415f43-f125-4cfe-f569-fa71a73df9ad"
      },
      "execution_count": 2,
      "outputs": [
        {
          "output_type": "stream",
          "name": "stdout",
          "text": [
            "\u001b[?25l   \u001b[90m━━━━━━━━━━━━━━━━━━━━━━━━━━━━━━━━━━━━━━━━\u001b[0m \u001b[32m0.0/454.3 kB\u001b[0m \u001b[31m?\u001b[0m eta \u001b[36m-:--:--\u001b[0m\r\u001b[2K   \u001b[91m━━━━━━━━━━━━━━━━━━━━━━\u001b[0m\u001b[91m╸\u001b[0m\u001b[90m━━━━━━━━━━━━━━━━━\u001b[0m \u001b[32m256.0/454.3 kB\u001b[0m \u001b[31m8.3 MB/s\u001b[0m eta \u001b[36m0:00:01\u001b[0m\r\u001b[2K   \u001b[90m━━━━━━━━━━━━━━━━━━━━━━━━━━━━━━━━━━━━━━━━\u001b[0m \u001b[32m454.3/454.3 kB\u001b[0m \u001b[31m8.1 MB/s\u001b[0m eta \u001b[36m0:00:00\u001b[0m\n",
            "\u001b[?25h"
          ]
        }
      ]
    },
    {
      "cell_type": "code",
      "source": [
        "import os\n",
        "from openai import OpenAI\n",
        "from google.colab import userdata\n",
        "key = userdata.get('OPENAI_API_KEY')"
      ],
      "metadata": {
        "id": "MT3HSomuf5SC"
      },
      "execution_count": 4,
      "outputs": []
    },
    {
      "cell_type": "code",
      "source": [
        "client = OpenAI(api_key=key)"
      ],
      "metadata": {
        "id": "inoqVDj6gV-I"
      },
      "execution_count": 5,
      "outputs": []
    },
    {
      "cell_type": "markdown",
      "source": [
        "# Exercise 1: Sentiment Analysis and Moderation"
      ],
      "metadata": {
        "id": "ZeVjAMsMhx6d"
      }
    },
    {
      "cell_type": "markdown",
      "source": [
        "## Q1: Sentiment Analysis\n"
      ],
      "metadata": {
        "id": "JaA1qRxzgpAt"
      }
    },
    {
      "cell_type": "code",
      "source": [
        "sentiment_data = [\n",
        "    \"I had an amazing experience at the new restaurant downtown!\",\n",
        "    \"The service was terrible, and I will never go back.\",\n",
        "    \"It was an okay movie, nothing special.\",\n",
        "    \"The product quality is outstanding, I highly recommend it.\",\n",
        "    \"I'm extremely disappointed with my purchase.\",\n",
        "    \"The weather is nice today.\"\n",
        "]"
      ],
      "metadata": {
        "id": "oYk8xtjPgwcX"
      },
      "execution_count": 8,
      "outputs": []
    },
    {
      "cell_type": "code",
      "source": [
        "def analyze_sentiment_openai(text):\n",
        "    prompt = f\"Please analyze the sentiment of this text: '{text}'. Is it positive, negative, or neutral? And give me the reasoning.\"\n",
        "    messages = [\n",
        "        {\"role\": \"user\", \"content\": prompt},\n",
        "        {\"role\": \"system\", \"content\": \"Give me the response in the JSON format which looks like this: {Text: \\\"\\\", Sentiment: \\\"\\\", Reasoning: \\\"\\\"}\"}\n",
        "    ]\n",
        "    response = client.chat.completions.create(\n",
        "        model=\"gpt-4o-mini\",\n",
        "        messages=messages,\n",
        "        temperature=1,\n",
        "    )\n",
        "\n",
        "    # Attempt to parse the response as JSON\n",
        "    try:\n",
        "        sentiment_result = json.loads(response.choices[0].message.content)\n",
        "        # Add the original text to the result\n",
        "        sentiment_result[\"Text\"] = text\n",
        "        return sentiment_result\n",
        "    except json.JSONDecodeError:\n",
        "        # Handle cases where the response is not valid JSON\n",
        "        return {\n",
        "            \"Text\": text,\n",
        "            \"Sentiment\": \"Error\",\n",
        "            \"Reasoning\": \"Could not parse response as JSON\"\n",
        "        }\n",
        "    return sentiment"
      ],
      "metadata": {
        "id": "Lc2AVNDG2-Jc"
      },
      "execution_count": 16,
      "outputs": []
    },
    {
      "cell_type": "code",
      "source": [
        "results = []\n",
        "\n",
        "for text in sentiment_data:\n",
        "    sentiment_result = analyze_sentiment_openai(text)  # Get sentiment with reasoning\n",
        "\n",
        "    results.append(sentiment_result)\n",
        "\n",
        "# Display the results\n",
        "import json\n",
        "print(json.dumps(results, indent=2))"
      ],
      "metadata": {
        "colab": {
          "base_uri": "https://localhost:8080/"
        },
        "id": "4YIw7AHj3YhU",
        "outputId": "bbc4f3b9-5491-40ec-eebe-e72a5c0f68c7"
      },
      "execution_count": 18,
      "outputs": [
        {
          "output_type": "stream",
          "name": "stdout",
          "text": [
            "[\n",
            "  {\n",
            "    \"Text\": \"I had an amazing experience at the new restaurant downtown!\",\n",
            "    \"Sentiment\": \"Positive\",\n",
            "    \"Reasoning\": \"The use of the word 'amazing' indicates a strong positive feeling towards the experience at the restaurant. Additionally, the phrase 'new restaurant downtown' suggests excitement and novelty, further contributing to the overall positive sentiment.\"\n",
            "  },\n",
            "  {\n",
            "    \"Text\": \"The service was terrible, and I will never go back.\",\n",
            "    \"Sentiment\": \"negative\",\n",
            "    \"Reasoning\": \"The text expresses dissatisfaction with the service by using the word 'terrible,' which conveys strong discontent. Additionally, the phrase 'I will never go back' indicates a definitive decision to avoid returning, reinforcing the negative sentiment.\"\n",
            "  },\n",
            "  {\n",
            "    \"Text\": \"It was an okay movie, nothing special.\",\n",
            "    \"Sentiment\": \"Error\",\n",
            "    \"Reasoning\": \"Could not parse response as JSON\"\n",
            "  },\n",
            "  {\n",
            "    \"Text\": \"The product quality is outstanding, I highly recommend it.\",\n",
            "    \"Sentiment\": \"Error\",\n",
            "    \"Reasoning\": \"Could not parse response as JSON\"\n",
            "  },\n",
            "  {\n",
            "    \"Text\": \"I'm extremely disappointed with my purchase.\",\n",
            "    \"Sentiment\": \"Negative\",\n",
            "    \"Reasoning\": \"The use of the word 'disappointed' indicates a strong feeling of dissatisfaction, and the phrase 'extremely disappointed' amplifies this sentiment, suggesting a highly negative experience with the purchase.\"\n",
            "  },\n",
            "  {\n",
            "    \"Text\": \"The weather is nice today.\",\n",
            "    \"Sentiment\": \"Error\",\n",
            "    \"Reasoning\": \"Could not parse response as JSON\"\n",
            "  }\n",
            "]\n"
          ]
        }
      ]
    },
    {
      "cell_type": "markdown",
      "source": [
        "## Q2: Content Moderation\n"
      ],
      "metadata": {
        "id": "Xi0Cly3qg8An"
      }
    },
    {
      "cell_type": "code",
      "source": [
        "content_moderation_data = [\n",
        "    \"I can't believe they hired such an incompetent person!\",\n",
        "    \"This is a wonderful community, and I love being part of it.\",\n",
        "    \"The event was a disaster; the organizers did a horrible job.\",\n",
        "    \"You are such an idiot for thinking that!\",\n",
        "    \"I support everyone who works hard to achieve their dreams.\",\n",
        "    \"Get lost, no one wants you here!\"\n",
        "]"
      ],
      "metadata": {
        "id": "PC5wwWdQhBG-"
      },
      "execution_count": 19,
      "outputs": []
    },
    {
      "cell_type": "code",
      "source": [
        "import json\n",
        "\n",
        "def moderate_content_openai(text):\n",
        "    prompt = f\"\"\"Please check the following text for harmful, offensive, or inappropriate content: '{text}'.\n",
        "\n",
        "    If there is inappropriate content, suggest a moderation action.\n",
        "\n",
        "    Provide your response in the following JSON format:\n",
        "\n",
        "    {{\n",
        "      \"Text\": \"original_text_here\",\n",
        "      \"Identified Issue\": \"issue_description_here\",\n",
        "      \"Moderation Action\": \"action_to_take_here\",\n",
        "      \"Reasoning\": \"reasoning_behind_the_action_here\"\n",
        "    }}\n",
        "    \"\"\"\n",
        "    messages = [{\"role\": \"user\", \"content\": prompt}]\n",
        "\n",
        "    response = client.chat.completions.create(\n",
        "        model=\"gpt-4o-mini\",\n",
        "        messages=messages,\n",
        "        temperature=1,\n",
        "    )\n",
        "\n",
        "    try:\n",
        "        moderate_content = json.loads(response.choices[0].message.content)\n",
        "        return moderate_content\n",
        "    except json.JSONDecodeError:\n",
        "        # Handle cases where the response is not valid JSON\n",
        "        return {\n",
        "            \"Text\": text,\n",
        "            \"Identified Issue\": \"Error\",\n",
        "            \"Moderation Action\": \"Error\",\n",
        "            \"Reasoning\": \"Could not parse response as JSON\"\n",
        "        }"
      ],
      "metadata": {
        "id": "2VzLP1Rl3Aj1"
      },
      "execution_count": 42,
      "outputs": []
    },
    {
      "cell_type": "code",
      "source": [
        "results = []\n",
        "\n",
        "# Loop through each text for content moderation\n",
        "for text in content_moderation_data:\n",
        "    moderation_result = moderate_content_openai(text)  # Get moderation result\n",
        "\n",
        "    results.append(moderation_result)\n",
        "\n",
        "# Display the results in the required JSON format\n",
        "print(json.dumps(results, indent=2))\n"
      ],
      "metadata": {
        "colab": {
          "base_uri": "https://localhost:8080/"
        },
        "id": "mFsTANAJ6fsG",
        "outputId": "751278e0-fc63-496f-f589-e29a63a3d29b"
      },
      "execution_count": 44,
      "outputs": [
        {
          "output_type": "stream",
          "name": "stdout",
          "text": [
            "[\n",
            "  {\n",
            "    \"Text\": \"I can't believe they hired such an incompetent person!\",\n",
            "    \"Identified Issue\": \"Offensive language towards an individual or group\",\n",
            "    \"Moderation Action\": \"Issue a warning or request for rephrasing\",\n",
            "    \"Reasoning\": \"The statement uses derogatory language that could be seen as disrespectful or harmful, suggesting a judgment on someone's competence in a negative way. Encouraging more respectful language can foster a better dialogue.\"\n",
            "  },\n",
            "  {\n",
            "    \"Text\": \"This is a wonderful community, and I love being part of it.\",\n",
            "    \"Identified Issue\": \"None\",\n",
            "    \"Moderation Action\": \"No action needed\",\n",
            "    \"Reasoning\": \"The text expresses a positive sentiment about a community and contains no harmful, offensive, or inappropriate content.\"\n",
            "  },\n",
            "  {\n",
            "    \"Text\": \"The event was a disaster; the organizers did a horrible job.\",\n",
            "    \"Identified Issue\": \"Negative criticism of organizers\",\n",
            "    \"Moderation Action\": \"Flag for review\",\n",
            "    \"Reasoning\": \"The language used is highly critical and could potentially create a hostile or unproductive dialogue about the event and its organizers. While criticism is valid, it should be conveyed in a constructive manner.\"\n",
            "  },\n",
            "  {\n",
            "    \"Text\": \"You are such an idiot for thinking that!\",\n",
            "    \"Identified Issue\": \"Offensive language and personal attack\",\n",
            "    \"Moderation Action\": \"Issue a warning or delete the comment\",\n",
            "    \"Reasoning\": \"The statement uses derogatory language that insults someone's intelligence, which can be harmful and create a negative environment. It should be moderated to promote respectful communication.\"\n",
            "  },\n",
            "  {\n",
            "    \"Text\": \"I support everyone who works hard to achieve their dreams.\",\n",
            "    \"Identified Issue\": \"None\",\n",
            "    \"Moderation Action\": \"No action needed\",\n",
            "    \"Reasoning\": \"The text promotes positivity and support for individuals striving to achieve their goals, which is not harmful, offensive, or inappropriate.\"\n",
            "  },\n",
            "  {\n",
            "    \"Text\": \"Get lost, no one wants you here!\",\n",
            "    \"Identified Issue\": \"Hateful or hostile language\",\n",
            "    \"Moderation Action\": \"Warning to the user or removal of the comment\",\n",
            "    \"Reasoning\": \"The text expresses hostility and invites exclusion, which can harm individuals' mental well-being and create a negative environment.\"\n",
            "  }\n",
            "]\n"
          ]
        }
      ]
    },
    {
      "cell_type": "markdown",
      "source": [
        "# Exercise 2: Few-shot Prompting"
      ],
      "metadata": {
        "id": "1gy_mG2lhveM"
      }
    },
    {
      "cell_type": "markdown",
      "source": [
        "## Q1: Text Classification\n"
      ],
      "metadata": {
        "id": "3MX2uuzzh5t9"
      }
    },
    {
      "cell_type": "code",
      "source": [
        "# Few-shot prompt to classify text into Factual, Opinion, or Ambiguous\n",
        "def classify_text(text):\n",
        "    prompt = \"\"\"\n",
        "    Classify the following statements into one of the following categories: Factual, Opinion, or Ambiguous.\n",
        "\n",
        "    Examples:\n",
        "    \"The Earth is the third planet from the Sun.\" -> Factual\n",
        "    \"I believe chocolate is the best dessert.\" -> Opinion\n",
        "    \"It might rain tomorrow.\" -> Ambiguous\n",
        "    \"Mount Everest is the highest mountain in the world.\" -> Factual\n",
        "    \"In my opinion, summer is the best season.\" -> Opinion\n",
        "    \"She may arrive at the party tonight.\" -> Ambiguous\n",
        "    \"Pizza is delicious.\" -> Opinion\n",
        "    \"The Earth orbits around the Sun.\" -> Factual\n",
        "    \"Sunsets are beautiful.\" -> Opinion\n",
        "    \"Water boils at 100 degrees Celsius.\" -> Factual\n",
        "    \"Classical music is soothing.\" -> Opinion\n",
        "    \"The meeting could be postponed.\" -> Ambiguous\n",
        "    \"Football is the most popular sport globally.\" -> Opinion\n",
        "    \"She could decide to travel abroad.\" -> Ambiguous\n",
        "    \"Ice cream is better than cake.\" -> Opinion\n",
        "\n",
        "    Now, classify the following text:\n",
        "    \"\"\" + text\n",
        "\n",
        "    messages = [{\"role\": \"user\", \"content\": prompt}]\n",
        "    response = client.chat.completions.create(\n",
        "        model=\"gpt-4o-mini\",\n",
        "        messages=messages,\n",
        "        temperature=1,\n",
        "    )\n",
        "    classification = response.choices[0].message.content.strip()\n",
        "    return classification"
      ],
      "metadata": {
        "id": "GOL9BXNe7eqC"
      },
      "execution_count": 54,
      "outputs": []
    },
    {
      "cell_type": "code",
      "source": [
        "# List of texts to classify\n",
        "texts_to_classify = [\n",
        "    \"The capital of France is Paris.\",\n",
        "    \"I believe chocolate is the best dessert.\",\n",
        "    \"It might rain tomorrow.\",\n",
        "    \"Mount Everest is the highest mountain in the world.\",\n",
        "    \"In my opinion, summer is the best season.\",\n",
        "    \"She may arrive at the party tonight.\",\n",
        "    \"Pizza is delicious.\",\n",
        "    \"The Earth orbits around the Sun.\",\n",
        "    \"Sunsets are beautiful.\",\n",
        "    \"Water boils at 100 degrees Celsius.\",\n",
        "    \"Classical music is soothing.\",\n",
        "    \"The meeting could be postponed.\",\n",
        "    \"Football is the most popular sport globally.\",\n",
        "    \"She could decide to travel abroad.\",\n",
        "    \"Ice cream is better than cake.\"\n",
        "]"
      ],
      "metadata": {
        "id": "QLsZIKbm7iOp"
      },
      "execution_count": 55,
      "outputs": []
    },
    {
      "cell_type": "code",
      "source": [
        "# Initialize the result list\n",
        "results = []\n",
        "\n",
        "# Loop through each text and classify\n",
        "for text in texts_to_classify:\n",
        "    label = classify_text(text)  # Get classification label\n",
        "    result = {\n",
        "        \"text\": text,\n",
        "        \"label\": label\n",
        "    }\n",
        "    results.append(result)\n",
        "\n",
        "# Display the results in JSON format\n",
        "import json\n",
        "print(json.dumps(results, indent=2))"
      ],
      "metadata": {
        "colab": {
          "base_uri": "https://localhost:8080/"
        },
        "id": "ByEy_WI67yDI",
        "outputId": "ed3d4b75-d811-4d83-f858-e18c9c840bfb"
      },
      "execution_count": 56,
      "outputs": [
        {
          "output_type": "stream",
          "name": "stdout",
          "text": [
            "[\n",
            "  {\n",
            "    \"text\": \"The capital of France is Paris.\",\n",
            "    \"label\": \"Factual\"\n",
            "  },\n",
            "  {\n",
            "    \"text\": \"I believe chocolate is the best dessert.\",\n",
            "    \"label\": \"Opinion\"\n",
            "  },\n",
            "  {\n",
            "    \"text\": \"It might rain tomorrow.\",\n",
            "    \"label\": \"Ambiguous\"\n",
            "  },\n",
            "  {\n",
            "    \"text\": \"Mount Everest is the highest mountain in the world.\",\n",
            "    \"label\": \"Factual\"\n",
            "  },\n",
            "  {\n",
            "    \"text\": \"In my opinion, summer is the best season.\",\n",
            "    \"label\": \"Opinion\"\n",
            "  },\n",
            "  {\n",
            "    \"text\": \"She may arrive at the party tonight.\",\n",
            "    \"label\": \"Ambiguous\"\n",
            "  },\n",
            "  {\n",
            "    \"text\": \"Pizza is delicious.\",\n",
            "    \"label\": \"Opinion\"\n",
            "  },\n",
            "  {\n",
            "    \"text\": \"The Earth orbits around the Sun.\",\n",
            "    \"label\": \"Factual\"\n",
            "  },\n",
            "  {\n",
            "    \"text\": \"Sunsets are beautiful.\",\n",
            "    \"label\": \"Opinion\"\n",
            "  },\n",
            "  {\n",
            "    \"text\": \"Water boils at 100 degrees Celsius.\",\n",
            "    \"label\": \"Factual\"\n",
            "  },\n",
            "  {\n",
            "    \"text\": \"Classical music is soothing.\",\n",
            "    \"label\": \"Opinion\"\n",
            "  },\n",
            "  {\n",
            "    \"text\": \"The meeting could be postponed.\",\n",
            "    \"label\": \"Ambiguous\"\n",
            "  },\n",
            "  {\n",
            "    \"text\": \"Football is the most popular sport globally.\",\n",
            "    \"label\": \"Opinion\"\n",
            "  },\n",
            "  {\n",
            "    \"text\": \"She could decide to travel abroad.\",\n",
            "    \"label\": \"Ambiguous\"\n",
            "  },\n",
            "  {\n",
            "    \"text\": \"Ice cream is better than cake.\",\n",
            "    \"label\": \"Opinion\"\n",
            "  }\n",
            "]\n"
          ]
        }
      ]
    },
    {
      "cell_type": "markdown",
      "source": [
        "## Q2: Logical Reasoning\n"
      ],
      "metadata": {
        "id": "gNOgwr9qh9pu"
      }
    },
    {
      "cell_type": "code",
      "source": [
        "# Few-shot prompt to identify the conclusion based on the premises\n",
        "def identify_conclusion(premises):\n",
        "    prompt = \"\"\"\n",
        "    Identify the conclusion from the following premises:\n",
        "\n",
        "    Example 1:\n",
        "    Premises: \"All birds have wings. A sparrow is a bird.\"\n",
        "    Conclusion: \"A sparrow has wings\"\n",
        "\n",
        "    Example 2:\n",
        "    Premises: \"If it snows, the ground will be covered in snow. It is snowing.\"\n",
        "    Conclusion: \"The ground is covered in snow\"\n",
        "\n",
        "    Example 3:\n",
        "    Premises: \"All dogs are mammals. Max is a dog.\"\n",
        "    Conclusion: \"Max is a mammal\"\n",
        "\n",
        "    Now, based on the following premises, identify the conclusion,\n",
        "    note: conclusion you return should be a pure text actual conclusion nothing else:\n",
        "    \"\"\" + premises\n",
        "\n",
        "    messages = [{\"role\": \"user\", \"content\": prompt}]\n",
        "    response = client.chat.completions.create(\n",
        "        model=\"gpt-4o-mini\",\n",
        "        messages=messages,\n",
        "        temperature=1,\n",
        "    )\n",
        "    conclusion = response.choices[0].message.content.strip()\n",
        "    return conclusion"
      ],
      "metadata": {
        "id": "lxvqdUqb8NAj"
      },
      "execution_count": 51,
      "outputs": []
    },
    {
      "cell_type": "code",
      "source": [
        "# List of test cases with premises\n",
        "premises_data = [\n",
        "    \"If it rains, the streets will be wet. It is raining.\",\n",
        "    \"All squares are rectangles. This shape is a square.\",\n",
        "    \"If it is sunny, she will go for a walk. It is sunny.\",\n",
        "    \"All students must pass the final exam. John is a student.\",\n",
        "    \"If the oven is turned on, the food will cook. The oven is turned on.\",\n",
        "    \"All prime numbers are odd. Seven is a prime number.\",\n",
        "    \"If he studies hard, he will pass the test. He studied hard.\",\n",
        "    \"All mammals have hair. Whales are mammals.\",\n",
        "    \"If it is cold outside, she wears a jacket. It is cold outside.\",\n",
        "    \"All metals conduct electricity. Copper is a metal.\"\n",
        "]\n"
      ],
      "metadata": {
        "id": "yAorCXid8dfj"
      },
      "execution_count": 52,
      "outputs": []
    },
    {
      "cell_type": "code",
      "source": [
        "# Initialize the result list\n",
        "results = []\n",
        "\n",
        "# Loop through each test case and identify the conclusion\n",
        "for premises in premises_data:\n",
        "    conclusion = identify_conclusion(premises)  # Get conclusion based on premises\n",
        "    result = {\n",
        "        \"premises\": premises,\n",
        "        \"conclusion\": conclusion\n",
        "    }\n",
        "    results.append(result)\n",
        "\n",
        "# Display the results in JSON format\n",
        "import json\n",
        "print(json.dumps(results, indent=2))"
      ],
      "metadata": {
        "colab": {
          "base_uri": "https://localhost:8080/"
        },
        "id": "77gHMO5g8hB1",
        "outputId": "1cc4aba7-2cbe-49d4-affe-ca3ae1ba78af"
      },
      "execution_count": 53,
      "outputs": [
        {
          "output_type": "stream",
          "name": "stdout",
          "text": [
            "[\n",
            "  {\n",
            "    \"premises\": \"If it rains, the streets will be wet. It is raining.\",\n",
            "    \"conclusion\": \"The streets will be wet.\"\n",
            "  },\n",
            "  {\n",
            "    \"premises\": \"All squares are rectangles. This shape is a square.\",\n",
            "    \"conclusion\": \"This shape is a rectangle.\"\n",
            "  },\n",
            "  {\n",
            "    \"premises\": \"If it is sunny, she will go for a walk. It is sunny.\",\n",
            "    \"conclusion\": \"She will go for a walk.\"\n",
            "  },\n",
            "  {\n",
            "    \"premises\": \"All students must pass the final exam. John is a student.\",\n",
            "    \"conclusion\": \"John must pass the final exam.\"\n",
            "  },\n",
            "  {\n",
            "    \"premises\": \"If the oven is turned on, the food will cook. The oven is turned on.\",\n",
            "    \"conclusion\": \"The food will cook.\"\n",
            "  },\n",
            "  {\n",
            "    \"premises\": \"All prime numbers are odd. Seven is a prime number.\",\n",
            "    \"conclusion\": \"Seven is odd.\"\n",
            "  },\n",
            "  {\n",
            "    \"premises\": \"If he studies hard, he will pass the test. He studied hard.\",\n",
            "    \"conclusion\": \"He will pass the test.\"\n",
            "  },\n",
            "  {\n",
            "    \"premises\": \"All mammals have hair. Whales are mammals.\",\n",
            "    \"conclusion\": \"Whales have hair.\"\n",
            "  },\n",
            "  {\n",
            "    \"premises\": \"If it is cold outside, she wears a jacket. It is cold outside.\",\n",
            "    \"conclusion\": \"She wears a jacket.\"\n",
            "  },\n",
            "  {\n",
            "    \"premises\": \"All metals conduct electricity. Copper is a metal.\",\n",
            "    \"conclusion\": \"Copper conducts electricity.\"\n",
            "  }\n",
            "]\n"
          ]
        }
      ]
    },
    {
      "cell_type": "markdown",
      "source": [
        "## Q3: Evaluating your results\n"
      ],
      "metadata": {
        "id": "tXxyOaLGjhFD"
      }
    },
    {
      "cell_type": "code",
      "source": [
        "classification_output = [\n",
        "  {\n",
        "    \"text\": \"The capital of France is Paris.\",\n",
        "    \"label\": \"Factual\"\n",
        "  },\n",
        "  {\n",
        "    \"text\": \"I believe chocolate is the best dessert.\",\n",
        "    \"label\": \"Opinion\"\n",
        "  },\n",
        "  {\n",
        "    \"text\": \"It might rain tomorrow.\",\n",
        "    \"label\": \"Ambiguous\"\n",
        "  },\n",
        "  {\n",
        "    \"text\": \"Mount Everest is the highest mountain in the world.\",\n",
        "    \"label\": \"Factual\"\n",
        "  },\n",
        "  {\n",
        "    \"text\": \"In my opinion, summer is the best season.\",\n",
        "    \"label\": \"Opinion\"\n",
        "  },\n",
        "  {\n",
        "    \"text\": \"She may arrive at the party tonight.\",\n",
        "    \"label\": \"Ambiguous\"\n",
        "  },\n",
        "  {\n",
        "    \"text\": \"Pizza is delicious.\",\n",
        "    \"label\": \"Opinion\"\n",
        "  },\n",
        "  {\n",
        "    \"text\": \"The Earth orbits around the Sun.\",\n",
        "    \"label\": \"Factual\"\n",
        "  },\n",
        "  {\n",
        "    \"text\": \"Sunsets are beautiful.\",\n",
        "    \"label\": \"Opinion\"\n",
        "  },\n",
        "  {\n",
        "    \"text\": \"Water boils at 100 degrees Celsius.\",\n",
        "    \"label\": \"Factual\"\n",
        "  },\n",
        "  {\n",
        "    \"text\": \"Classical music is soothing.\",\n",
        "    \"label\": \"Opinion\"\n",
        "  },\n",
        "  {\n",
        "    \"text\": \"The meeting could be postponed.\",\n",
        "    \"label\": \"Ambiguous\"\n",
        "  },\n",
        "  {\n",
        "    \"text\": \"Football is the most popular sport globally.\",\n",
        "    \"label\": \"Opinion\"\n",
        "  },\n",
        "  {\n",
        "    \"text\": \"She could decide to travel abroad.\",\n",
        "    \"label\": \"Ambiguous\"\n",
        "  },\n",
        "  {\n",
        "    \"text\": \"Ice cream is better than cake.\",\n",
        "    \"label\": \"Opinion\"\n",
        "  }\n",
        "]\n",
        "\n",
        "reasoning_output = [\n",
        "  {\n",
        "    \"premises\": \"If it rains, the streets will be wet. It is raining.\",\n",
        "    \"conclusion\": \"The streets will be wet.\"\n",
        "  },\n",
        "  {\n",
        "    \"premises\": \"All squares are rectangles. This shape is a square.\",\n",
        "    \"conclusion\": \"This shape is a rectangle.\"\n",
        "  },\n",
        "  {\n",
        "    \"premises\": \"If it is sunny, she will go for a walk. It is sunny.\",\n",
        "    \"conclusion\": \"She will go for a walk.\"\n",
        "  },\n",
        "  {\n",
        "    \"premises\": \"All students must pass the final exam. John is a student.\",\n",
        "    \"conclusion\": \"John must pass the final exam.\"\n",
        "  },\n",
        "  {\n",
        "    \"premises\": \"If the oven is turned on, the food will cook. The oven is turned on.\",\n",
        "    \"conclusion\": \"The food will cook.\"\n",
        "  },\n",
        "  {\n",
        "    \"premises\": \"All prime numbers are odd. Seven is a prime number.\",\n",
        "    \"conclusion\": \"Seven is odd.\"\n",
        "  },\n",
        "  {\n",
        "    \"premises\": \"If he studies hard, he will pass the test. He studied hard.\",\n",
        "    \"conclusion\": \"He will pass the test.\"\n",
        "  },\n",
        "  {\n",
        "    \"premises\": \"All mammals have hair. Whales are mammals.\",\n",
        "    \"conclusion\": \"Whales have hair.\"\n",
        "  },\n",
        "  {\n",
        "    \"premises\": \"If it is cold outside, she wears a jacket. It is cold outside.\",\n",
        "    \"conclusion\": \"She wears a jacket.\"\n",
        "  },\n",
        "  {\n",
        "    \"premises\": \"All metals conduct electricity. Copper is a metal.\",\n",
        "    \"conclusion\": \"Copper conducts electricity.\"\n",
        "  }\n",
        "]\n"
      ],
      "metadata": {
        "id": "gBnNSdctBh2m"
      },
      "execution_count": 59,
      "outputs": []
    },
    {
      "cell_type": "code",
      "source": [
        "from nltk.translate.bleu_score import sentence_bleu\n",
        "\n",
        "def evaluate_bleu_score(predictions, ground_truths):\n",
        "    correct = 0\n",
        "    total = len(predictions)\n",
        "    bleu_scores = []\n",
        "\n",
        "    for pred, gt_text in zip(predictions, ground_truths):\n",
        "        pred_text = pred[\"label\"].split()  # Access \"label\" and split\n",
        "        gt_text = gt_text.split()       # Split ground truth string\n",
        "        bleu_scores.append(sentence_bleu([gt_text], pred_text)) # Provide a list of reference sentences\n",
        "        if pred[\"label\"] == gt_text[0]:  # Compare with the first word of ground truth (adjust if needed)\n",
        "            correct += 1\n",
        "\n",
        "    avg_bleu_score = sum(bleu_scores) / len(bleu_scores) if len(bleu_scores) > 0 else 0\n",
        "\n",
        "    return correct, total, avg_bleu_score\n",
        "\n",
        "def evaluate_reasoning(predictions, ground_truths):\n",
        "    correct = 0\n",
        "    total = len(predictions)\n",
        "    bleu_scores = []\n",
        "\n",
        "    for pred, premises in zip(predictions, ground_truths):\n",
        "        pred_text = pred[\"conclusion\"].split()  # Split the prediction into words\n",
        "        # Extract the expected conclusion and split into words\n",
        "        expected_conclusion = premises.split('.')[-1].strip()\n",
        "        gt_text = expected_conclusion.split()\n",
        "        bleu_scores.append(sentence_bleu([gt_text], pred_text)) # Provide list of reference sentences (one in this case)\n",
        "\n",
        "        if pred[\"conclusion\"] == expected_conclusion:\n",
        "            correct += 1\n",
        "\n",
        "    avg_bleu_score = sum(bleu_scores) / len(bleu_scores) if len(bleu_scores) > 0 else 0\n",
        "\n",
        "    return correct, total, avg_bleu_score\n",
        "\n",
        "# Assuming you have classification_output, texts_to_classify, reasoning_output, and premises_data\n",
        "\n",
        "# Modify texts_to_classify to include only ground truth labels\n",
        "ground_truth_labels = [{\"label\": text.split(\"->\")[-1].strip()} for text in texts_to_classify]\n",
        "\n",
        "# Evaluate sentiment analysis\n",
        "sentiment_correct, sentiment_total, sentiment_bleu = evaluate_bleu_score(classification_output, [t[\"label\"] for t in ground_truth_labels])\n",
        "# Evaluate reasoning\n",
        "reasoning_correct, reasoning_total, reasoning_bleu = evaluate_reasoning(reasoning_output, premises_data)\n",
        "# Calculate overall evaluation results\n",
        "total_correct = sentiment_correct + reasoning_correct\n",
        "total_predictions = sentiment_total + reasoning_total\n",
        "overall_accuracy = total_correct / total_predictions\n",
        "\n",
        "# Output the results\n",
        "result = {\n",
        "    \"Total_num_text\": total_predictions,\n",
        "    \"Total_correct_predictions\": total_correct,\n",
        "    \"Total_incorrect_predictions\": total_predictions - total_correct,\n",
        "    \"overall_accuracy\": overall_accuracy\n",
        "}\n",
        "\n",
        "# Display the results\n",
        "import json\n",
        "print(json.dumps(result, indent=2))"
      ],
      "metadata": {
        "colab": {
          "base_uri": "https://localhost:8080/"
        },
        "id": "SRX5pvbBBKr8",
        "outputId": "b87882e5-fc5a-44be-9401-c0ef45c30195"
      },
      "execution_count": 63,
      "outputs": [
        {
          "output_type": "stream",
          "name": "stdout",
          "text": [
            "{\n",
            "  \"Total_num_text\": 25,\n",
            "  \"Total_correct_predictions\": 0,\n",
            "  \"Total_incorrect_predictions\": 25,\n",
            "  \"overall_accuracy\": 0.0\n",
            "}\n"
          ]
        }
      ]
    },
    {
      "cell_type": "markdown",
      "source": [
        "# Exercise 3: Chain-of-Thoughts(CoT) Prompting\n"
      ],
      "metadata": {
        "id": "DnGNkJUxjrJP"
      }
    },
    {
      "cell_type": "markdown",
      "source": [
        "## Q1: Chain-of-Thoughts(CoT) Prompting"
      ],
      "metadata": {
        "id": "B_z48BCcjsP6"
      }
    },
    {
      "cell_type": "code",
      "source": [
        "import openai\n",
        "\n",
        "# Replace with your OpenAI API key\n",
        "openai.api_key = 'YOUR_API_KEY'\n",
        "\n",
        "def generate_trip_plan():\n",
        "    # Define the Chain-of-Thoughts (CoT) prompt\n",
        "    prompt = \"\"\"\n",
        "    You are tasked with planning a 7-day cultural trip to India, focusing on cultural sites. Break down the task into manageable steps:\n",
        "    1. Select cities in India that are rich in cultural heritage.\n",
        "    2. Identify key cultural sites in those cities.\n",
        "    3. Plan a 7-day itinerary based on the cultural significance of each site.\n",
        "\n",
        "    Think step by step and explain the reasoning behind each decision. You will plan a full itinerary with the following details:\n",
        "    - Choose the cities to visit.\n",
        "    - Identify the major cultural sites in those cities.\n",
        "    - Plan the daily activities and suggest sites to visit each day.\n",
        "\n",
        "    At the end, provide the final 7-day itinerary.\n",
        "    \"\"\"\n",
        "\n",
        "    messages = [{\"role\": \"user\", \"content\": prompt}]\n",
        "    response = client.chat.completions.create(\n",
        "        model=\"gpt-4o-mini\",\n",
        "        messages=messages,\n",
        "        temperature=1,\n",
        "    )\n",
        "    trip_plan = response.choices[0].message.content.strip()\n",
        "\n",
        "    # Extract and return the trip plan from the model response\n",
        "    return trip_plan\n",
        "\n",
        "# Generate the trip plan\n",
        "trip_plan = generate_trip_plan()\n",
        "\n",
        "# Print the output (the 7-day itinerary)\n",
        "print(trip_plan)\n"
      ],
      "metadata": {
        "colab": {
          "base_uri": "https://localhost:8080/"
        },
        "id": "hw8DU5j2jwAu",
        "outputId": "61d98521-9eb5-4c62-f7a4-613abb25fb77"
      },
      "execution_count": null,
      "outputs": [
        {
          "output_type": "stream",
          "name": "stdout",
          "text": [
            "Planning a 7-day cultural trip to India involves selecting cities renowned for their rich cultural heritage, identifying key cultural sites, and creating a daily itinerary that maximizes engagement with these cultural landmarks. India’s diverse history, art, and traditions provide countless options, but for a well-rounded experience, we will focus on three cities: Delhi, Agra, and Jaipur, collectively known as the Golden Triangle.\n",
            "\n",
            "### Step 1: Select Cities\n",
            "\n",
            "**Rationale**: The Golden Triangle is a popular route for cultural tourism in India. It connects Delhi (the capital city), Agra (home to the Taj Mahal), and Jaipur (the Pink City), showcasing a rich tapestry of historical and cultural attractions.\n",
            "\n",
            "### Selected Cities:\n",
            "1. **Delhi**\n",
            "2. **Agra**\n",
            "3. **Jaipur**\n",
            "\n",
            "### Step 2: Identify Key Cultural Sites\n",
            "\n",
            "**Delhi**:\n",
            "- Red Fort: A UNESCO World Heritage Site symbolizing Mughal architecture.\n",
            "- Qutub Minar: Another UNESCO site, this minaret is one of the tallest in India.\n",
            "- Humayun's Tomb: The mausoleum of the Mughal Emperor Humayun, recognized for its beautiful gardens.\n",
            "\n",
            "**Agra**:\n",
            "- Taj Mahal: One of the Seven Wonders of the World, famous for its stunning architecture and love story.\n",
            "- Agra Fort: A UNESCO World Heritage site with impressive palaces and gardens.\n",
            "\n",
            "**Jaipur**:\n",
            "- Amber Fort: This majestic fort combines Mughal and Rajput architecture.\n",
            "- City Palace: A royal residence with a museum showcasing royal artifacts.\n",
            "- Hawa Mahal: Also known as the Wind Palace, noted for its unique façade.\n",
            "\n",
            "### Step 3: Plan a 7-Day Itinerary\n",
            "\n",
            "#### Day 1: Arrival in Delhi\n",
            "- **Morning**: Arrive in Delhi and check-in at the hotel.\n",
            "- **Afternoon**: Visit Red Fort, learning about Mughal history and architecture.\n",
            "- **Evening**: Walk through Chandni Chowk, experiencing local markets and food.\n",
            "\n",
            "#### Day 2: Explore Delhi\n",
            "- **Morning**: Visit Qutub Minar and learn about Indo-Islamic architecture.\n",
            "- **Afternoon**: Explore Humayun's Tomb and its lush gardens.\n",
            "- **Evening**: Visit India Gate and participate in a light and sound show about Indian history.\n",
            "\n",
            "#### Day 3: Travel to Agra\n",
            "- **Morning**: Travel to Agra (approximately 3-4 hours by road/train).\n",
            "- **Afternoon**: Visit Agra Fort to understand Mughal history.\n",
            "- **Evening**: Dinner with a view of the Taj Mahal.\n",
            "\n",
            "#### Day 4: Taj Mahal and Local Culture\n",
            "- **Morning**: Early morning visit to the Taj Mahal to witness the sunrise.\n",
            "- **Midday**: Explore local artisan markets and perhaps try making a marble inlay craft.\n",
            "- **Evening**: Attend a cultural show featuring traditional music and dance.\n",
            "\n",
            "#### Day 5: Travel to Jaipur\n",
            "- **Morning**: Travel to Jaipur (approximately 4-5 hours by car).\n",
            "- **Afternoon**: Visit the City Palace and its museum.\n",
            "- **Evening**: Explore the local bazaars (Johari Bazaar) and shop for traditional Rajasthani crafts.\n",
            "\n",
            "#### Day 6: Jaipur Exploration\n",
            "- **Morning**: Visit Amber Fort and enjoy an elephant ride or jeep ride up to the fort.\n",
            "- **Afternoon**: Visit the Hawa Mahal (Wind Palace) and take photos.\n",
            "- **Evening**: View a traditional Rajasthani dinner show, experiencing local cuisine and music.\n",
            "\n",
            "#### Day 7: Departure\n",
            "- **Morning**: Last-minute shopping or visit the Jantar Mantar, an astronomical observatory.\n",
            "- **Afternoon**: Travel back to Delhi for departure (approx. 5 hours).\n",
            "- **Evening**: Depart from Delhi.\n",
            "\n",
            "### Final 7-Day Itinerary Summary\n",
            "\n",
            "#### Day 1: Arrival in Delhi\n",
            "- Red Fort\n",
            "- Chandni Chowk\n",
            "\n",
            "#### Day 2: Explore Delhi\n",
            "- Qutub Minar\n",
            "- Humayun's Tomb\n",
            "- India Gate\n",
            "\n",
            "#### Day 3: Travel to Agra\n",
            "- Agra Fort\n",
            "- Dinner with a view of the Taj Mahal\n",
            "\n",
            "#### Day 4: Taj Mahal and Local Culture\n",
            "- Sunrise at Taj Mahal\n",
            "- Artisan markets\n",
            "- Cultural show\n",
            "\n",
            "#### Day 5: Travel to Jaipur\n",
            "- City Palace\n",
            "- Local bazaars\n",
            "\n",
            "#### Day 6: Jaipur Exploration\n",
            "- Amber Fort\n",
            "- Hawa Mahal\n",
            "- Dinner show\n",
            "\n",
            "#### Day 7: Departure\n",
            "- Jantar Mantar or shopping\n",
            "- Travel back to Delhi and depart\n",
            "\n",
            "This itinerary covers a mix of architecture, history, local culture, and cuisine, providing a deep connection to the cultural richness of India. Adjustments can be made based on personal interests, travel pace, and connectivity.\n"
          ]
        }
      ]
    }
  ]
}